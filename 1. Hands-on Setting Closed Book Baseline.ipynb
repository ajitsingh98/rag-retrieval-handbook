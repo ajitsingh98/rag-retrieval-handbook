{
 "cells": [
  {
   "cell_type": "markdown",
   "metadata": {},
   "source": [
    "# Hands-on: Setting Closed Book Baseline"
   ]
  },
  {
   "cell_type": "markdown",
   "metadata": {},
   "source": [
    "## Installation"
   ]
  },
  {
   "cell_type": "code",
   "execution_count": 2,
   "metadata": {},
   "outputs": [
    {
     "name": "stdout",
     "output_type": "stream",
     "text": [
      "Requirement already satisfied: datasets in /Users/ajitkumarsingh/opt/anaconda3/envs/pytorch/lib/python3.11/site-packages (3.5.1)\n",
      "Requirement already satisfied: evaluate in /Users/ajitkumarsingh/opt/anaconda3/envs/pytorch/lib/python3.11/site-packages (0.4.3)\n",
      "Requirement already satisfied: transformers in /Users/ajitkumarsingh/opt/anaconda3/envs/pytorch/lib/python3.11/site-packages (4.49.0)\n",
      "Requirement already satisfied: accelerate in /Users/ajitkumarsingh/opt/anaconda3/envs/pytorch/lib/python3.11/site-packages (1.6.0)\n",
      "Requirement already satisfied: bitsandbytes in /Users/ajitkumarsingh/opt/anaconda3/envs/pytorch/lib/python3.11/site-packages (0.42.0)\n",
      "Requirement already satisfied: sentencepiece in /Users/ajitkumarsingh/opt/anaconda3/envs/pytorch/lib/python3.11/site-packages (0.2.0)\n",
      "Requirement already satisfied: filelock in /Users/ajitkumarsingh/opt/anaconda3/envs/pytorch/lib/python3.11/site-packages (from datasets) (3.12.2)\n",
      "Requirement already satisfied: numpy>=1.17 in /Users/ajitkumarsingh/opt/anaconda3/envs/pytorch/lib/python3.11/site-packages (from datasets) (1.26.4)\n",
      "Requirement already satisfied: pyarrow>=15.0.0 in /Users/ajitkumarsingh/opt/anaconda3/envs/pytorch/lib/python3.11/site-packages (from datasets) (15.0.0)\n",
      "Requirement already satisfied: dill<0.3.9,>=0.3.0 in /Users/ajitkumarsingh/opt/anaconda3/envs/pytorch/lib/python3.11/site-packages (from datasets) (0.3.8)\n",
      "Requirement already satisfied: pandas in /Users/ajitkumarsingh/opt/anaconda3/envs/pytorch/lib/python3.11/site-packages (from datasets) (2.2.0)\n",
      "Requirement already satisfied: requests>=2.32.2 in /Users/ajitkumarsingh/opt/anaconda3/envs/pytorch/lib/python3.11/site-packages (from datasets) (2.32.3)\n",
      "Requirement already satisfied: tqdm>=4.66.3 in /Users/ajitkumarsingh/opt/anaconda3/envs/pytorch/lib/python3.11/site-packages (from datasets) (4.67.1)\n",
      "Requirement already satisfied: xxhash in /Users/ajitkumarsingh/opt/anaconda3/envs/pytorch/lib/python3.11/site-packages (from datasets) (3.5.0)\n",
      "Requirement already satisfied: multiprocess<0.70.17 in /Users/ajitkumarsingh/opt/anaconda3/envs/pytorch/lib/python3.11/site-packages (from datasets) (0.70.16)\n",
      "Requirement already satisfied: fsspec[http]<=2025.3.0,>=2023.1.0 in /Users/ajitkumarsingh/opt/anaconda3/envs/pytorch/lib/python3.11/site-packages (from datasets) (2025.3.0)\n",
      "Requirement already satisfied: aiohttp in /Users/ajitkumarsingh/opt/anaconda3/envs/pytorch/lib/python3.11/site-packages (from datasets) (3.11.13)\n",
      "Requirement already satisfied: huggingface-hub>=0.24.0 in /Users/ajitkumarsingh/opt/anaconda3/envs/pytorch/lib/python3.11/site-packages (from datasets) (0.29.2)\n",
      "Requirement already satisfied: packaging in /Users/ajitkumarsingh/opt/anaconda3/envs/pytorch/lib/python3.11/site-packages (from datasets) (24.2)\n",
      "Requirement already satisfied: pyyaml>=5.1 in /Users/ajitkumarsingh/opt/anaconda3/envs/pytorch/lib/python3.11/site-packages (from datasets) (6.0.2)\n",
      "Requirement already satisfied: regex!=2019.12.17 in /Users/ajitkumarsingh/opt/anaconda3/envs/pytorch/lib/python3.11/site-packages (from transformers) (2024.11.6)\n",
      "Requirement already satisfied: tokenizers<0.22,>=0.21 in /Users/ajitkumarsingh/opt/anaconda3/envs/pytorch/lib/python3.11/site-packages (from transformers) (0.21.0)\n",
      "Requirement already satisfied: safetensors>=0.4.1 in /Users/ajitkumarsingh/opt/anaconda3/envs/pytorch/lib/python3.11/site-packages (from transformers) (0.5.3)\n",
      "Requirement already satisfied: psutil in /Users/ajitkumarsingh/opt/anaconda3/envs/pytorch/lib/python3.11/site-packages (from accelerate) (5.9.0)\n",
      "Requirement already satisfied: torch>=2.0.0 in /Users/ajitkumarsingh/opt/anaconda3/envs/pytorch/lib/python3.11/site-packages (from accelerate) (2.0.1)\n",
      "Requirement already satisfied: scipy in /Users/ajitkumarsingh/opt/anaconda3/envs/pytorch/lib/python3.11/site-packages (from bitsandbytes) (1.15.2)\n",
      "Requirement already satisfied: aiohappyeyeballs>=2.3.0 in /Users/ajitkumarsingh/opt/anaconda3/envs/pytorch/lib/python3.11/site-packages (from aiohttp->datasets) (2.6.1)\n",
      "Requirement already satisfied: aiosignal>=1.1.2 in /Users/ajitkumarsingh/opt/anaconda3/envs/pytorch/lib/python3.11/site-packages (from aiohttp->datasets) (1.3.2)\n",
      "Requirement already satisfied: attrs>=17.3.0 in /Users/ajitkumarsingh/opt/anaconda3/envs/pytorch/lib/python3.11/site-packages (from aiohttp->datasets) (25.2.0)\n",
      "Requirement already satisfied: frozenlist>=1.1.1 in /Users/ajitkumarsingh/opt/anaconda3/envs/pytorch/lib/python3.11/site-packages (from aiohttp->datasets) (1.5.0)\n",
      "Requirement already satisfied: multidict<7.0,>=4.5 in /Users/ajitkumarsingh/opt/anaconda3/envs/pytorch/lib/python3.11/site-packages (from aiohttp->datasets) (6.1.0)\n",
      "Requirement already satisfied: propcache>=0.2.0 in /Users/ajitkumarsingh/opt/anaconda3/envs/pytorch/lib/python3.11/site-packages (from aiohttp->datasets) (0.3.0)\n",
      "Requirement already satisfied: yarl<2.0,>=1.17.0 in /Users/ajitkumarsingh/opt/anaconda3/envs/pytorch/lib/python3.11/site-packages (from aiohttp->datasets) (1.18.3)\n",
      "Requirement already satisfied: typing-extensions>=3.7.4.3 in /Users/ajitkumarsingh/opt/anaconda3/envs/pytorch/lib/python3.11/site-packages (from huggingface-hub>=0.24.0->datasets) (4.12.2)\n",
      "Requirement already satisfied: charset-normalizer<4,>=2 in /Users/ajitkumarsingh/opt/anaconda3/envs/pytorch/lib/python3.11/site-packages (from requests>=2.32.2->datasets) (3.4.1)\n",
      "Requirement already satisfied: idna<4,>=2.5 in /Users/ajitkumarsingh/opt/anaconda3/envs/pytorch/lib/python3.11/site-packages (from requests>=2.32.2->datasets) (3.10)\n",
      "Requirement already satisfied: urllib3<3,>=1.21.1 in /Users/ajitkumarsingh/opt/anaconda3/envs/pytorch/lib/python3.11/site-packages (from requests>=2.32.2->datasets) (2.3.0)\n",
      "Requirement already satisfied: certifi>=2017.4.17 in /Users/ajitkumarsingh/opt/anaconda3/envs/pytorch/lib/python3.11/site-packages (from requests>=2.32.2->datasets) (2025.1.31)\n",
      "Requirement already satisfied: sympy in /Users/ajitkumarsingh/opt/anaconda3/envs/pytorch/lib/python3.11/site-packages (from torch>=2.0.0->accelerate) (1.12)\n",
      "Requirement already satisfied: networkx in /Users/ajitkumarsingh/opt/anaconda3/envs/pytorch/lib/python3.11/site-packages (from torch>=2.0.0->accelerate) (3.4.2)\n",
      "Requirement already satisfied: jinja2 in /Users/ajitkumarsingh/opt/anaconda3/envs/pytorch/lib/python3.11/site-packages (from torch>=2.0.0->accelerate) (3.1.2)\n",
      "Requirement already satisfied: python-dateutil>=2.8.2 in /Users/ajitkumarsingh/opt/anaconda3/envs/pytorch/lib/python3.11/site-packages (from pandas->datasets) (2.8.2)\n",
      "Requirement already satisfied: pytz>=2020.1 in /Users/ajitkumarsingh/opt/anaconda3/envs/pytorch/lib/python3.11/site-packages (from pandas->datasets) (2022.7)\n",
      "Requirement already satisfied: tzdata>=2022.7 in /Users/ajitkumarsingh/opt/anaconda3/envs/pytorch/lib/python3.11/site-packages (from pandas->datasets) (2023.3)\n",
      "Requirement already satisfied: six>=1.5 in /Users/ajitkumarsingh/opt/anaconda3/envs/pytorch/lib/python3.11/site-packages (from python-dateutil>=2.8.2->pandas->datasets) (1.16.0)\n",
      "Requirement already satisfied: MarkupSafe>=2.0 in /Users/ajitkumarsingh/opt/anaconda3/envs/pytorch/lib/python3.11/site-packages (from jinja2->torch>=2.0.0->accelerate) (2.1.1)\n",
      "Requirement already satisfied: mpmath>=0.19 in /Users/ajitkumarsingh/opt/anaconda3/envs/pytorch/lib/python3.11/site-packages (from sympy->torch>=2.0.0->accelerate) (1.3.0)\n"
     ]
    }
   ],
   "source": [
    "!pip install datasets evaluate transformers accelerate bitsandbytes sentencepiece"
   ]
  },
  {
   "cell_type": "markdown",
   "metadata": {},
   "source": [
    "## Imports"
   ]
  },
  {
   "cell_type": "code",
   "execution_count": 3,
   "metadata": {},
   "outputs": [],
   "source": [
    "import random, torch, evaluate, json\n",
    "from datasets import load_dataset\n",
    "from transformers import AutoTokenizer, AutoModelForCausalLM, pipeline\n",
    "from huggingface_hub import login\n",
    "login(token='')"
   ]
  },
  {
   "cell_type": "markdown",
   "metadata": {},
   "source": [
    "## Load Data"
   ]
  },
  {
   "cell_type": "code",
   "execution_count": null,
   "metadata": {},
   "outputs": [],
   "source": [
    "ds = load_dataset(\"hotpot_qa\", \"distractor\", split=\"train[:200]\")\n",
    "questions = ds[\"question\"][:25]\n",
    "gold_answers = ds[\"answer\"][:25]"
   ]
  },
  {
   "cell_type": "code",
   "execution_count": null,
   "metadata": {},
   "outputs": [],
   "source": [
    "ds.keys()"
   ]
  },
  {
   "cell_type": "code",
   "execution_count": null,
   "metadata": {},
   "outputs": [],
   "source": [
    "questions[0]"
   ]
  },
  {
   "cell_type": "code",
   "execution_count": null,
   "metadata": {},
   "outputs": [],
   "source": [
    "gold_answers[0]"
   ]
  },
  {
   "cell_type": "markdown",
   "metadata": {},
   "source": [
    "## Load Model"
   ]
  },
  {
   "cell_type": "code",
   "execution_count": null,
   "metadata": {},
   "outputs": [],
   "source": [
    "model_name = \"meta-llama/Meta-Llama-3-8B-Instruct\"\n",
    "\n",
    "tokenizer = AutoTokenizer.from_pretrained(model_name)\n",
    "model      = AutoModelForCausalLM.from_pretrained(\n",
    "                 model_name, device_map=\"auto\", torch_dtype=torch.float16)\n",
    "\n",
    "generator = pipeline(\"text-generation\", model=model, tokenizer=tokenizer,\n",
    "                     temperature=0.1,\n",
    "                     max_new_tokens=128)"
   ]
  },
  {
   "cell_type": "markdown",
   "metadata": {},
   "source": [
    "## Closed-book LLM Prediction"
   ]
  },
  {
   "cell_type": "code",
   "execution_count": null,
   "metadata": {},
   "outputs": [],
   "source": [
    "predictions = []\n",
    "\n",
    "for q in questions:\n",
    "    prompt = ( \"You are an expert question-answering system.\\n\"\n",
    "               f\"Question: {q}\\n\"\n",
    "               \"Answer briefly:\\n\" )\n",
    "    ans = generator(prompt)[0][\"generated_text\"].split(\"Answer briefly:\\n\")[-1]\n",
    "    print(f\"{q} -> {ans}\")\n",
    "    predictions.append(ans.strip())\n"
   ]
  },
  {
   "cell_type": "code",
   "execution_count": null,
   "metadata": {},
   "outputs": [],
   "source": [
    "squad = evaluate.load(\"squad\")\n",
    "results = squad.compute(predictions=predictions, references=gold_answers)\n",
    "print(json.dumps(results, indent=2))"
   ]
  },
  {
   "cell_type": "markdown",
   "metadata": {},
   "source": []
  }
 ],
 "metadata": {
  "language_info": {
   "name": "python"
  }
 },
 "nbformat": 4,
 "nbformat_minor": 2
}
